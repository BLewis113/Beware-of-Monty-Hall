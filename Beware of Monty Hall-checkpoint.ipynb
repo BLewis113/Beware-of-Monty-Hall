{
 "cells": [
  {
   "cell_type": "markdown",
   "metadata": {},
   "source": [
    "### You are on a game show and given the choice of whatever is behind three doors. Behind one door is a fantastic prize (some examples use a car, others use cash) while behind the other two doors is a dud (some examples say a goat, others say it's just empty). You pick a door. Then the host opens one of the other two doors to reveal a dud. But here's the wrinkle: the host now gives you the opportunity to switch your door. What should you do?"
   ]
  },
  {
   "cell_type": "markdown",
   "metadata": {},
   "source": [
    "Three doors, 1 cars, 2 duds. Given option to choose again after seeing a dud door. Given that door 2 had a dud what is the probability that my door has a prize?"
   ]
  },
  {
   "cell_type": "markdown",
   "metadata": {},
   "source": [
    "##### A = My door\n",
    "##### P(A) = Probability my door is the winner = .33\n",
    "##### P(A~) = my door isnt the winner = .66\n",
    "##### P(B|A) = door two being open after choosing my door = .5 because there are three doors\n",
    "###### P(B|A~) = when both my door isnt the winner and door 2 is opened by host. \n",
    "    1st case: A~ = door 2 is winner = .33\n",
    "              B = host cant open = 0\n",
    "              P(B|A~) = .33 * 0 = 0\n",
    "    \n",
    "    2nd case: A~ = door 3 is winner = .33\n",
    "              B = host opens door 2 = 1 because its\n",
    "                  the only one to open\n",
    "              P(B|A~) = .33 * 1 = .33\n",
    "   "
   ]
  },
  {
   "cell_type": "markdown",
   "metadata": {},
   "source": [
    "P(A|B) = (P(B|A) * P(A)) / ((P(A) * P(B|A)) + (P(A~) * P(B|A~)) \n",
    "         "
   ]
  },
  {
   "cell_type": "markdown",
   "metadata": {},
   "source": [
    "P(A|B) = (.5 * .33) / (.33 *.5) + 0 + .33 = .33"
   ]
  },
  {
   "cell_type": "markdown",
   "metadata": {},
   "source": [
    "### Given that door 2 has a dud in it the probability of my door having the prize is 33%. Meaning that door 3 has a 67% chance of having the prize. Given the chances switching would be the better than staying. "
   ]
  },
  {
   "cell_type": "code",
   "execution_count": null,
   "metadata": {},
   "outputs": [],
   "source": []
  }
 ],
 "metadata": {
  "kernelspec": {
   "display_name": "Python 3",
   "language": "python",
   "name": "python3"
  },
  "language_info": {
   "codemirror_mode": {
    "name": "ipython",
    "version": 3
   },
   "file_extension": ".py",
   "mimetype": "text/x-python",
   "name": "python",
   "nbconvert_exporter": "python",
   "pygments_lexer": "ipython3",
   "version": "3.7.1"
  }
 },
 "nbformat": 4,
 "nbformat_minor": 2
}
